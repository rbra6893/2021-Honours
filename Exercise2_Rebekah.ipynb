{
 "cells": [
  {
   "cell_type": "markdown",
   "metadata": {},
   "source": [
    "## Exercise 2\n",
    "\n",
    "In the `FiniteDifferences` notebook we considered the differential equation controlling heat flow which relates the rate of change in $T$, the temperature, to spatial gradients in the same quantity. \n",
    "\n",
    "$$\n",
    "\\frac{\\partial T}{\\partial t} = \\kappa \\frac{\\partial^2 T}{\\partial x^2} + H\n",
    "$$\n",
    "       \n",
    "       \n",
    "We ignored $H$ and solved a number of examples. \n",
    "\n",
    "At the end of the notebook we looked at the time-varying solution of the heat equation using an explicit finite difference approximation. Given all the trouble we went to setting this up, don't you think it would be a good idea to see if we can iterate until we reach the steady-state solution?\n",
    "\n",
    "This is not very complicated to do so I would like you to try it __for the case where $\\kappa$ is constant__.\n",
    "\n",
    "You can copy and paste the cells from the `FiniteDifferences` here to get started."
   ]
  },
  {
   "cell_type": "markdown",
   "metadata": {
    "collapsed": true
   },
   "source": [
    "## Hints\n",
    "\n",
    "You have most of the code you need. The `np.gradient` function will still be useful ... in fact you really only have to put everything in a `for` loop and enforce the boundary conditions.\n"
   ]
  },
  {
   "cell_type": "code",
   "execution_count": 1,
   "metadata": {},
   "outputs": [],
   "source": [
    "## Your code here\n",
    "\n",
    "import numpy as np\n",
    "import matplotlib.pyplot as plt\n",
    "%matplotlib inline\n",
    "\n",
    "nx = 30 \n",
    "ny = 30\n",
    "\n",
    "T = np.zeros((ny,nx))\n",
    "\n",
    "T_list = []\n",
    "\n",
    "# Initial conditions\n",
    "T[0,:] = 300.\n",
    "T[-1,:] = 800.\n",
    "\n",
    "k = 1.0\n",
    "\n",
    "dx, dy = 1., 1.\n",
    "\n",
    "steps = 1000\n",
    "\n",
    "time = 0.0\n",
    "\n",
    "for i in range (1,steps):\n",
    "    gradTx, gradTy = np.gradient(T, dx, dy)\n",
    "    flux_x = k*gradTx\n",
    "    flux_y = k*gradTy\n",
    "\n",
    "    gradTxx, gradTxy = np.gradient(flux_x, dx, dy)\n",
    "    gradTyx, gradTyy = np.gradient(flux_y, dx, dy)\n",
    "\n",
    "    divT = gradTxx + gradTyy\n",
    "    dt = (dx*dy)/k\n",
    "    time += dt\n",
    "    \n",
    "    T_list.append(T)\n",
    "\n",
    "    T = T + dt*divT\n",
    "    \n",
    "    #compare current timestep with next timestep - change in solution should be become smaller and smaller\n",
    "    \n",
    "    #a data structure that will store both current and previous time step - lists???\n"
   ]
  },
  {
   "cell_type": "code",
   "execution_count": 2,
   "metadata": {},
   "outputs": [
    {
     "data": {
      "text/plain": [
       "<matplotlib.image.AxesImage at 0x22de4f966a0>"
      ]
     },
     "execution_count": 2,
     "metadata": {},
     "output_type": "execute_result"
    },
    {
     "data": {
      "image/png": "[encoded data removed]",
      "text/plain": [
       "<Figure size 432x288 with 1 Axes>"
      ]
     },
     "metadata": {
      "needs_background": "light"
     },
     "output_type": "display_data"
    }
   ],
   "source": [
    "plt.imshow(T)"
   ]
  },
  {
   "cell_type": "code",
   "execution_count": 3,
   "metadata": {
    "scrolled": true
   },
   "outputs": [],
   "source": [
    "#print(T_list) - to check stored T - can't do this if too many time steps or it will crash\n"
   ]
  },
  {
   "cell_type": "code",
   "execution_count": 4,
   "metadata": {},
   "outputs": [
    {
     "data": {
      "text/plain": [
       "array([[1.10536898, 1.10536898, 1.10536898, 1.10536898, 1.10536898,\n",
       "        1.10536898, 1.10536898, 1.10536898, 1.10536898, 1.10536898,\n",
       "        1.10536898, 1.10536898, 1.10536898, 1.10536898, 1.10536898,\n",
       "        1.10536898, 1.10536898, 1.10536898, 1.10536898, 1.10536898,\n",
       "        1.10536898, 1.10536898, 1.10536898, 1.10536898, 1.10536898,\n",
       "        1.10536898, 1.10536898, 1.10536898, 1.10536898, 1.10536898],\n",
       "       [1.26495157, 1.26495157, 1.26495157, 1.26495157, 1.26495157,\n",
       "        1.26495157, 1.26495157, 1.26495157, 1.26495157, 1.26495157,\n",
       "        1.26495157, 1.26495157, 1.26495157, 1.26495157, 1.26495157,\n",
       "        1.26495157, 1.26495157, 1.26495157, 1.26495157, 1.26495157,\n",
       "        1.26495157, 1.26495157, 1.26495157, 1.26495157, 1.26495157,\n",
       "        1.26495157, 1.26495157, 1.26495157, 1.26495157, 1.26495157],\n",
       "       [1.41805443, 1.41805443, 1.41805443, 1.41805443, 1.41805443,\n",
       "        1.41805443, 1.41805443, 1.41805443, 1.41805443, 1.41805443,\n",
       "        1.41805443, 1.41805443, 1.41805443, 1.41805443, 1.41805443,\n",
       "        1.41805443, 1.41805443, 1.41805443, 1.41805443, 1.41805443,\n",
       "        1.41805443, 1.41805443, 1.41805443, 1.41805443, 1.41805443,\n",
       "        1.41805443, 1.41805443, 1.41805443, 1.41805443, 1.41805443],\n",
       "       [1.56928634, 1.56928634, 1.56928634, 1.56928634, 1.56928634,\n",
       "        1.56928634, 1.56928634, 1.56928634, 1.56928634, 1.56928634,\n",
       "        1.56928634, 1.56928634, 1.56928634, 1.56928634, 1.56928634,\n",
       "        1.56928634, 1.56928634, 1.56928634, 1.56928634, 1.56928634,\n",
       "        1.56928634, 1.56928634, 1.56928634, 1.56928634, 1.56928634,\n",
       "        1.56928634, 1.56928634, 1.56928634, 1.56928634, 1.56928634],\n",
       "       [1.7141145 , 1.7141145 , 1.7141145 , 1.7141145 , 1.7141145 ,\n",
       "        1.7141145 , 1.7141145 , 1.7141145 , 1.7141145 , 1.7141145 ,\n",
       "        1.7141145 , 1.7141145 , 1.7141145 , 1.7141145 , 1.7141145 ,\n",
       "        1.7141145 , 1.7141145 , 1.7141145 , 1.7141145 , 1.7141145 ,\n",
       "        1.7141145 , 1.7141145 , 1.7141145 , 1.7141145 , 1.7141145 ,\n",
       "        1.7141145 , 1.7141145 , 1.7141145 , 1.7141145 , 1.7141145 ],\n",
       "       [1.85522267, 1.85522267, 1.85522267, 1.85522267, 1.85522267,\n",
       "        1.85522267, 1.85522267, 1.85522267, 1.85522267, 1.85522267,\n",
       "        1.85522267, 1.85522267, 1.85522267, 1.85522267, 1.85522267,\n",
       "        1.85522267, 1.85522267, 1.85522267, 1.85522267, 1.85522267,\n",
       "        1.85522267, 1.85522267, 1.85522267, 1.85522267, 1.85522267,\n",
       "        1.85522267, 1.85522267, 1.85522267, 1.85522267, 1.85522267],\n",
       "       [1.99007813, 1.99007813, 1.99007813, 1.99007813, 1.99007813,\n",
       "        1.99007813, 1.99007813, 1.99007813, 1.99007813, 1.99007813,\n",
       "        1.99007813, 1.99007813, 1.99007813, 1.99007813, 1.99007813,\n",
       "        1.99007813, 1.99007813, 1.99007813, 1.99007813, 1.99007813,\n",
       "        1.99007813, 1.99007813, 1.99007813, 1.99007813, 1.99007813,\n",
       "        1.99007813, 1.99007813, 1.99007813, 1.99007813, 1.99007813],\n",
       "       [2.1194082 , 2.1194082 , 2.1194082 , 2.1194082 , 2.1194082 ,\n",
       "        2.1194082 , 2.1194082 , 2.1194082 , 2.1194082 , 2.1194082 ,\n",
       "        2.1194082 , 2.1194082 , 2.1194082 , 2.1194082 , 2.1194082 ,\n",
       "        2.1194082 , 2.1194082 , 2.1194082 , 2.1194082 , 2.1194082 ,\n",
       "        2.1194082 , 2.1194082 , 2.1194082 , 2.1194082 , 2.1194082 ,\n",
       "        2.1194082 , 2.1194082 , 2.1194082 , 2.1194082 , 2.1194082 ],\n",
       "       [2.24270992, 2.24270992, 2.24270992, 2.24270992, 2.24270992,\n",
       "        2.24270992, 2.24270992, 2.24270992, 2.24270992, 2.24270992,\n",
       "        2.24270992, 2.24270992, 2.24270992, 2.24270992, 2.24270992,\n",
       "        2.24270992, 2.24270992, 2.24270992, 2.24270992, 2.24270992,\n",
       "        2.24270992, 2.24270992, 2.24270992, 2.24270992, 2.24270992,\n",
       "        2.24270992, 2.24270992, 2.24270992, 2.24270992, 2.24270992],\n",
       "       [2.35874562, 2.35874562, 2.35874562, 2.35874562, 2.35874562,\n",
       "        2.35874562, 2.35874562, 2.35874562, 2.35874562, 2.35874562,\n",
       "        2.35874562, 2.35874562, 2.35874562, 2.35874562, 2.35874562,\n",
       "        2.35874562, 2.35874562, 2.35874562, 2.35874562, 2.35874562,\n",
       "        2.35874562, 2.35874562, 2.35874562, 2.35874562, 2.35874562,\n",
       "        2.35874562, 2.35874562, 2.35874562, 2.35874562, 2.35874562],\n",
       "       [2.46904799, 2.46904799, 2.46904799, 2.46904799, 2.46904799,\n",
       "        2.46904799, 2.46904799, 2.46904799, 2.46904799, 2.46904799,\n",
       "        2.46904799, 2.46904799, 2.46904799, 2.46904799, 2.46904799,\n",
       "        2.46904799, 2.46904799, 2.46904799, 2.46904799, 2.46904799,\n",
       "        2.46904799, 2.46904799, 2.46904799, 2.46904799, 2.46904799,\n",
       "        2.46904799, 2.46904799, 2.46904799, 2.46904799, 2.46904799],\n",
       "       [2.57042889, 2.57042889, 2.57042889, 2.57042889, 2.57042889,\n",
       "        2.57042889, 2.57042889, 2.57042889, 2.57042889, 2.57042889,\n",
       "        2.57042889, 2.57042889, 2.57042889, 2.57042889, 2.57042889,\n",
       "        2.57042889, 2.57042889, 2.57042889, 2.57042889, 2.57042889,\n",
       "        2.57042889, 2.57042889, 2.57042889, 2.57042889, 2.57042889,\n",
       "        2.57042889, 2.57042889, 2.57042889, 2.57042889, 2.57042889],\n",
       "       [2.66643873, 2.66643873, 2.66643873, 2.66643873, 2.66643873,\n",
       "        2.66643873, 2.66643873, 2.66643873, 2.66643873, 2.66643873,\n",
       "        2.66643873, 2.66643873, 2.66643873, 2.66643873, 2.66643873,\n",
       "        2.66643873, 2.66643873, 2.66643873, 2.66643873, 2.66643873,\n",
       "        2.66643873, 2.66643873, 2.66643873, 2.66643873, 2.66643873,\n",
       "        2.66643873, 2.66643873, 2.66643873, 2.66643873, 2.66643873],\n",
       "       [2.75197624, 2.75197624, 2.75197624, 2.75197624, 2.75197624,\n",
       "        2.75197624, 2.75197624, 2.75197624, 2.75197624, 2.75197624,\n",
       "        2.75197624, 2.75197624, 2.75197624, 2.75197624, 2.75197624,\n",
       "        2.75197624, 2.75197624, 2.75197624, 2.75197624, 2.75197624,\n",
       "        2.75197624, 2.75197624, 2.75197624, 2.75197624, 2.75197624,\n",
       "        2.75197624, 2.75197624, 2.75197624, 2.75197624, 2.75197624],\n",
       "       [2.83256791, 2.83256791, 2.83256791, 2.83256791, 2.83256791,\n",
       "        2.83256791, 2.83256791, 2.83256791, 2.83256791, 2.83256791,\n",
       "        2.83256791, 2.83256791, 2.83256791, 2.83256791, 2.83256791,\n",
       "        2.83256791, 2.83256791, 2.83256791, 2.83256791, 2.83256791,\n",
       "        2.83256791, 2.83256791, 2.83256791, 2.83256791, 2.83256791,\n",
       "        2.83256791, 2.83256791, 2.83256791, 2.83256791, 2.83256791],\n",
       "       [2.90125919, 2.90125919, 2.90125919, 2.90125919, 2.90125919,\n",
       "        2.90125919, 2.90125919, 2.90125919, 2.90125919, 2.90125919,\n",
       "        2.90125919, 2.90125919, 2.90125919, 2.90125919, 2.90125919,\n",
       "        2.90125919, 2.90125919, 2.90125919, 2.90125919, 2.90125919,\n",
       "        2.90125919, 2.90125919, 2.90125919, 2.90125919, 2.90125919,\n",
       "        2.90125919, 2.90125919, 2.90125919, 2.90125919, 2.90125919],\n",
       "       [2.96548782, 2.96548782, 2.96548782, 2.96548782, 2.96548782,\n",
       "        2.96548782, 2.96548782, 2.96548782, 2.96548782, 2.96548782,\n",
       "        2.96548782, 2.96548782, 2.96548782, 2.96548782, 2.96548782,\n",
       "        2.96548782, 2.96548782, 2.96548782, 2.96548782, 2.96548782,\n",
       "        2.96548782, 2.96548782, 2.96548782, 2.96548782, 2.96548782,\n",
       "        2.96548782, 2.96548782, 2.96548782, 2.96548782, 2.96548782],\n",
       "       [3.01652752, 3.01652752, 3.01652752, 3.01652752, 3.01652752,\n",
       "        3.01652752, 3.01652752, 3.01652752, 3.01652752, 3.01652752,\n",
       "        3.01652752, 3.01652752, 3.01652752, 3.01652752, 3.01652752,\n",
       "        3.01652752, 3.01652752, 3.01652752, 3.01652752, 3.01652752,\n",
       "        3.01652752, 3.01652752, 3.01652752, 3.01652752, 3.01652752,\n",
       "        3.01652752, 3.01652752, 3.01652752, 3.01652752, 3.01652752],\n",
       "       [3.0636401 , 3.0636401 , 3.0636401 , 3.0636401 , 3.0636401 ,\n",
       "        3.0636401 , 3.0636401 , 3.0636401 , 3.0636401 , 3.0636401 ,\n",
       "        3.0636401 , 3.0636401 , 3.0636401 , 3.0636401 , 3.0636401 ,\n",
       "        3.0636401 , 3.0636401 , 3.0636401 , 3.0636401 , 3.0636401 ,\n",
       "        3.0636401 , 3.0636401 , 3.0636401 , 3.0636401 , 3.0636401 ,\n",
       "        3.0636401 , 3.0636401 , 3.0636401 , 3.0636401 , 3.0636401 ],\n",
       "       [3.09642982, 3.09642982, 3.09642982, 3.09642982, 3.09642982,\n",
       "        3.09642982, 3.09642982, 3.09642982, 3.09642982, 3.09642982,\n",
       "        3.09642982, 3.09642982, 3.09642982, 3.09642982, 3.09642982,\n",
       "        3.09642982, 3.09642982, 3.09642982, 3.09642982, 3.09642982,\n",
       "        3.09642982, 3.09642982, 3.09642982, 3.09642982, 3.09642982,\n",
       "        3.09642982, 3.09642982, 3.09642982, 3.09642982, 3.09642982],\n",
       "       [3.125874  , 3.125874  , 3.125874  , 3.125874  , 3.125874  ,\n",
       "        3.125874  , 3.125874  , 3.125874  , 3.125874  , 3.125874  ,\n",
       "        3.125874  , 3.125874  , 3.125874  , 3.125874  , 3.125874  ,\n",
       "        3.125874  , 3.125874  , 3.125874  , 3.125874  , 3.125874  ,\n",
       "        3.125874  , 3.125874  , 3.125874  , 3.125874  , 3.125874  ,\n",
       "        3.125874  , 3.125874  , 3.125874  , 3.125874  , 3.125874  ],\n",
       "       [3.14002932, 3.14002932, 3.14002932, 3.14002932, 3.14002932,\n",
       "        3.14002932, 3.14002932, 3.14002932, 3.14002932, 3.14002932,\n",
       "        3.14002932, 3.14002932, 3.14002932, 3.14002932, 3.14002932,\n",
       "        3.14002932, 3.14002932, 3.14002932, 3.14002932, 3.14002932,\n",
       "        3.14002932, 3.14002932, 3.14002932, 3.14002932, 3.14002932,\n",
       "        3.14002932, 3.14002932, 3.14002932, 3.14002932, 3.14002932],\n",
       "       [3.15145988, 3.15145988, 3.15145988, 3.15145988, 3.15145988,\n",
       "        3.15145988, 3.15145988, 3.15145988, 3.15145988, 3.15145988,\n",
       "        3.15145988, 3.15145988, 3.15145988, 3.15145988, 3.15145988,\n",
       "        3.15145988, 3.15145988, 3.15145988, 3.15145988, 3.15145988,\n",
       "        3.15145988, 3.15145988, 3.15145988, 3.15145988, 3.15145988,\n",
       "        3.15145988, 3.15145988, 3.15145988, 3.15145988, 3.15145988],\n",
       "       [3.14681484, 3.14681484, 3.14681484, 3.14681484, 3.14681484,\n",
       "        3.14681484, 3.14681484, 3.14681484, 3.14681484, 3.14681484,\n",
       "        3.14681484, 3.14681484, 3.14681484, 3.14681484, 3.14681484,\n",
       "        3.14681484, 3.14681484, 3.14681484, 3.14681484, 3.14681484,\n",
       "        3.14681484, 3.14681484, 3.14681484, 3.14681484, 3.14681484,\n",
       "        3.14681484, 3.14681484, 3.14681484, 3.14681484, 3.14681484],\n",
       "       [3.14009778, 3.14009778, 3.14009778, 3.14009778, 3.14009778,\n",
       "        3.14009778, 3.14009778, 3.14009778, 3.14009778, 3.14009778,\n",
       "        3.14009778, 3.14009778, 3.14009778, 3.14009778, 3.14009778,\n",
       "        3.14009778, 3.14009778, 3.14009778, 3.14009778, 3.14009778,\n",
       "        3.14009778, 3.14009778, 3.14009778, 3.14009778, 3.14009778,\n",
       "        3.14009778, 3.14009778, 3.14009778, 3.14009778, 3.14009778],\n",
       "       [3.11670684, 3.11670684, 3.11670684, 3.11670684, 3.11670684,\n",
       "        3.11670684, 3.11670684, 3.11670684, 3.11670684, 3.11670684,\n",
       "        3.11670684, 3.11670684, 3.11670684, 3.11670684, 3.11670684,\n",
       "        3.11670684, 3.11670684, 3.11670684, 3.11670684, 3.11670684,\n",
       "        3.11670684, 3.11670684, 3.11670684, 3.11670684, 3.11670684,\n",
       "        3.11670684, 3.11670684, 3.11670684, 3.11670684, 3.11670684],\n",
       "       [3.09192091, 3.09192091, 3.09192091, 3.09192091, 3.09192091,\n",
       "        3.09192091, 3.09192091, 3.09192091, 3.09192091, 3.09192091,\n",
       "        3.09192091, 3.09192091, 3.09192091, 3.09192091, 3.09192091,\n",
       "        3.09192091, 3.09192091, 3.09192091, 3.09192091, 3.09192091,\n",
       "        3.09192091, 3.09192091, 3.09192091, 3.09192091, 3.09192091,\n",
       "        3.09192091, 3.09192091, 3.09192091, 3.09192091, 3.09192091],\n",
       "       [3.0500583 , 3.0500583 , 3.0500583 , 3.0500583 , 3.0500583 ,\n",
       "        3.0500583 , 3.0500583 , 3.0500583 , 3.0500583 , 3.0500583 ,\n",
       "        3.0500583 , 3.0500583 , 3.0500583 , 3.0500583 , 3.0500583 ,\n",
       "        3.0500583 , 3.0500583 , 3.0500583 , 3.0500583 , 3.0500583 ,\n",
       "        3.0500583 , 3.0500583 , 3.0500583 , 3.0500583 , 3.0500583 ,\n",
       "        3.0500583 , 3.0500583 , 3.0500583 , 3.0500583 , 3.0500583 ],\n",
       "       [3.00749408, 3.00749408, 3.00749408, 3.00749408, 3.00749408,\n",
       "        3.00749408, 3.00749408, 3.00749408, 3.00749408, 3.00749408,\n",
       "        3.00749408, 3.00749408, 3.00749408, 3.00749408, 3.00749408,\n",
       "        3.00749408, 3.00749408, 3.00749408, 3.00749408, 3.00749408,\n",
       "        3.00749408, 3.00749408, 3.00749408, 3.00749408, 3.00749408,\n",
       "        3.00749408, 3.00749408, 3.00749408, 3.00749408, 3.00749408],\n",
       "       [2.94765061, 2.94765061, 2.94765061, 2.94765061, 2.94765061,\n",
       "        2.94765061, 2.94765061, 2.94765061, 2.94765061, 2.94765061,\n",
       "        2.94765061, 2.94765061, 2.94765061, 2.94765061, 2.94765061,\n",
       "        2.94765061, 2.94765061, 2.94765061, 2.94765061, 2.94765061,\n",
       "        2.94765061, 2.94765061, 2.94765061, 2.94765061, 2.94765061,\n",
       "        2.94765061, 2.94765061, 2.94765061, 2.94765061, 2.94765061]])"
      ]
     },
     "execution_count": 4,
     "metadata": {},
     "output_type": "execute_result"
    }
   ],
   "source": [
    "#indexing e.g. take -1 (last entry) and -2 (second last entry) and compare them\n",
    "\n",
    "T_list[-1] - T_list[-2]\n"
   ]
  },
  {
   "cell_type": "code",
   "execution_count": 5,
   "metadata": {
    "scrolled": false
   },
   "outputs": [
    {
     "data": {
      "text/plain": [
       "[<matplotlib.lines.Line2D at 0x22de52aa250>]"
      ]
     },
     "execution_count": 5,
     "metadata": {},
     "output_type": "execute_result"
    },
    {
     "data": {
      "image/png": "[encoded data removed]",
      "text/plain": [
       "<Figure size 432x288 with 1 Axes>"
      ]
     },
     "metadata": {
      "needs_background": "light"
     },
     "output_type": "display_data"
    }
   ],
   "source": [
    "#Calculating the difference across all timesteps to try and find where convergence happens (i.e. where that difference becomes very small / negligible)\n",
    "\n",
    "T_list = np.array(T_list)\n",
    "T_diff = T_list [1:,:,:] - T_list[0:-1,:,: ]\n",
    "T_diff_reduced = np.abs(T_diff).max(axis=(1,2))\n",
    "\n",
    "#plot T_diff_reduced and see how / where it converges - the line should become pretty flat towards a steady state as the solution isn't changing much after each subsequent time step\n",
    "\n",
    "plt.plot(T_diff_reduced)"
   ]
  },
  {
   "cell_type": "code",
   "execution_count": 10,
   "metadata": {},
   "outputs": [
    {
     "data": {
      "text/plain": [
       "5.618837997844821"
      ]
     },
     "execution_count": 10,
     "metadata": {},
     "output_type": "execute_result"
    }
   ],
   "source": [
    "#It appears to be converging towards a steady state after around 800 time steps \n",
    "\n",
    "\n",
    "#find maximum difference at 800 time steps??\n",
    "T_diff = T_list[801,:,:] - T_list[800,:,:]\n",
    "\n",
    "np.max(T_diff)\n"
   ]
  },
  {
   "cell_type": "markdown",
   "metadata": {},
   "source": [
    "We know that there is an instability in the code which occurs if the timestep is too large. Currently the timestep size is related to the size of the mesh and the diffusivity:\n",
    "\n",
    "$$\n",
    "\\Delta t = \\frac{\\Delta x \\Delta y}{\\kappa}\n",
    "$$\n",
    "\n",
    "\n",
    "What happens if you overwrite the timestep size, `dt`? What is the point where the solution begins to breakdown and you see wild oscillations? Is it pretty close to the above relation?"
   ]
  },
  {
   "cell_type": "code",
   "execution_count": 11,
   "metadata": {},
   "outputs": [],
   "source": [
    "## Your test code here\n",
    "\n",
    "nx = 30 \n",
    "ny = 30\n",
    "\n",
    "T = np.zeros((ny,nx))\n",
    "\n",
    "# Initial conditions\n",
    "T[0,:] = 300.\n",
    "T[-1,:] = 800.\n",
    "\n",
    "k = 1.0\n",
    "\n",
    "dx, dy = 1., 1.\n",
    "\n",
    "steps = 100\n",
    "\n",
    "time = 0.0\n",
    "\n",
    "#Try different dt values to see where time step becomes too large\n",
    "for i in range (1,steps):\n",
    "    gradTx, gradTy = np.gradient(T, dx, dy)\n",
    "    flux_x = k*gradTx\n",
    "    flux_y = k*gradTy\n",
    "\n",
    "    gradTxx, gradTxy = np.gradient(flux_x, dx, dy)\n",
    "    gradTyx, gradTyy = np.gradient(flux_y, dx, dy)\n",
    "\n",
    "    divT = gradTxx + gradTyy\n",
    "    dt = 2\n",
    "\n",
    "    T = T + dt*divT\n",
    "    \n",
    "    \n",
    "T2 = np.zeros((ny,nx))\n",
    "T2[0,:] = 300.\n",
    "T2[-1,:] = 800.\n",
    "\n",
    "for i in range (1,steps):\n",
    "    gradT2x, gradT2y = np.gradient(T2, dx, dy)\n",
    "    flux_x = k*gradT2x\n",
    "    flux_y = k*gradT2y\n",
    "\n",
    "    gradT2xx, gradT2xy = np.gradient(flux_x, dx, dy)\n",
    "    gradT2yx, gradT2yy = np.gradient(flux_y, dx, dy)\n",
    "\n",
    "    divT2 = gradT2xx + gradT2yy\n",
    "    dt = 2.1\n",
    "\n",
    "    T2 = T2 + dt*divT2\n"
   ]
  },
  {
   "cell_type": "code",
   "execution_count": 12,
   "metadata": {
    "scrolled": true
   },
   "outputs": [
    {
     "data": {
      "text/plain": [
       "Text(0.5, 1.0, 'dt = 2.1 (100 steps)')"
      ]
     },
     "execution_count": 12,
     "metadata": {},
     "output_type": "execute_result"
    },
    {
     "data": {
      "image/png": "[encoded data removed]",
      "text/plain": [
       "<Figure size 720x288 with 2 Axes>"
      ]
     },
     "metadata": {
      "needs_background": "light"
     },
     "output_type": "display_data"
    }
   ],
   "source": [
    "fig, (ax1, ax2) = plt.subplots(1,2, sharey=True, figsize=(10,4))\n",
    "ax1.imshow(T)\n",
    "ax1.set_title('dt = 2 (100 steps)')\n",
    "ax2.imshow(T2)\n",
    "ax2.set_title('dt = 2.1 (100 steps)')"
   ]
  },
  {
   "cell_type": "code",
   "execution_count": 13,
   "metadata": {},
   "outputs": [],
   "source": [
    "#Starts breaking down somewehere between 2 and 2.1 (starts osciallting between 2.05 and 2.08?) \n",
    "#2.1 is quite clearly oscillating whilst 2 is a nice gradient "
   ]
  },
  {
   "cell_type": "code",
   "execution_count": 14,
   "metadata": {},
   "outputs": [],
   "source": [
    "#try for values between 1 and 0 for where timestep becomes too small and gradient is lost \n",
    "nx = 30 \n",
    "ny = 30\n",
    "\n",
    "T = np.zeros((ny,nx))\n",
    "\n",
    "# Initial conditions\n",
    "T[0,:] = 300.\n",
    "T[-1,:] = 800.\n",
    "\n",
    "k = 1.0\n",
    "\n",
    "dx, dy = 1., 1.\n",
    "\n",
    "steps = 100\n",
    "\n",
    "time = 0.0\n",
    "\n",
    "for i in range (1,steps):\n",
    "    gradTx, gradTy = np.gradient(T, dx, dy)\n",
    "    flux_x = k*gradTx\n",
    "    flux_y = k*gradTy\n",
    "\n",
    "    gradTxx, gradTxy = np.gradient(flux_x, dx, dy)\n",
    "    gradTyx, gradTyy = np.gradient(flux_y, dx, dy)\n",
    "\n",
    "    divT = gradTxx + gradTyy\n",
    "    dt = 1\n",
    "\n",
    "    T = T + dt*divT\n",
    "    \n",
    "T2 = np.zeros((ny,nx))\n",
    "T2[0,:] = 300.\n",
    "T2[-1,:] = 800.\n",
    "\n",
    "for i in range (1,steps):\n",
    "    gradT2x, gradT2y = np.gradient(T2, dx, dy)\n",
    "    flux_x = k*gradT2x\n",
    "    flux_y = k*gradT2y\n",
    "\n",
    "    gradT2xx, gradT2xy = np.gradient(flux_x, dx, dy)\n",
    "    gradT2yx, gradT2yy = np.gradient(flux_y, dx, dy)\n",
    "\n",
    "    divT2 = gradT2xx + gradT2yy\n",
    "    dt = 0.1\n",
    "\n",
    "    T2 = T2 + dt*divT2\n",
    "\n",
    "T3 = np.zeros((ny,nx))\n",
    "T3[0,:] = 300.\n",
    "T3[-1,:] = 800.\n",
    "\n",
    "for i in range (1,steps):\n",
    "    gradT3x, gradT3y = np.gradient(T3, dx, dy)\n",
    "    flux_x = k*gradT3x\n",
    "    flux_y = k*gradT3y\n",
    "\n",
    "    gradT3xx, gradT3xy = np.gradient(flux_x, dx, dy)\n",
    "    gradT3yx, gradT3yy = np.gradient(flux_y, dx, dy)\n",
    "\n",
    "    divT3 = gradT3xx + gradT3yy\n",
    "    dt = 0.001\n",
    "\n",
    "    T3 = T3 + dt*divT3"
   ]
  },
  {
   "cell_type": "code",
   "execution_count": 15,
   "metadata": {},
   "outputs": [
    {
     "data": {
      "text/plain": [
       "Text(0.5, 1.0, 'dt = 0.001 (100 steps)')"
      ]
     },
     "execution_count": 15,
     "metadata": {},
     "output_type": "execute_result"
    },
    {
     "data": {
      "image/png": "[encoded data removed]",
      "text/plain": [
       "<Figure size 720x288 with 3 Axes>"
      ]
     },
     "metadata": {
      "needs_background": "light"
     },
     "output_type": "display_data"
    }
   ],
   "source": [
    "fig, (ax1, ax2, ax3) = plt.subplots(1,3, sharey=True, figsize=(10,4))\n",
    "ax1.imshow(T)\n",
    "ax1.set_title('dt = 1 (100 steps)')\n",
    "ax2.imshow(T2)\n",
    "ax2.set_title('dt = 0.1 (100 steps)')\n",
    "ax3.imshow(T3)\n",
    "ax3.set_title('dt = 0.001 (100 steps)')"
   ]
  },
  {
   "cell_type": "code",
   "execution_count": 16,
   "metadata": {},
   "outputs": [],
   "source": [
    "#loses the gradient somewhere between 0.1 and 0? \n",
    "#With only 100 timesteps a timestep size that is quite small/ approaching zero is not enough to create a gradient / solution"
   ]
  },
  {
   "cell_type": "code",
   "execution_count": 24,
   "metadata": {},
   "outputs": [
    {
     "name": "stdout",
     "output_type": "stream",
     "text": [
      "dt = 1.0\n"
     ]
    }
   ],
   "source": [
    "#calculate dt based on mesh and diffusivity \n",
    "\n",
    "dx, dy = 1., 1.\n",
    "k = 1.0\n",
    "dt = (dx*dy)/k\n",
    "\n",
    "print (\"dt =\", dt)\n"
   ]
  },
  {
   "cell_type": "code",
   "execution_count": 25,
   "metadata": {},
   "outputs": [
    {
     "data": {
      "text/plain": [
       "Text(0.5, 1.0, 'dt = 0.9 (100 steps)')"
      ]
     },
     "execution_count": 25,
     "metadata": {},
     "output_type": "execute_result"
    },
    {
     "data": {
      "image/png": "[encoded data removed]",
      "text/plain": [
       "<Figure size 720x288 with 3 Axes>"
      ]
     },
     "metadata": {
      "needs_background": "light"
     },
     "output_type": "display_data"
    }
   ],
   "source": [
    "#Increase/decrease \"optimal\" timestep size by small amount (is 0.1 a small enough amount?)\n",
    "#Testing for dt = 1, dt = 1.1 and dt = 0.9? \n",
    "\n",
    "nx = 30 \n",
    "ny = 30\n",
    "\n",
    "T = np.zeros((ny,nx))\n",
    "\n",
    "# Initial conditions\n",
    "T[0,:] = 300.\n",
    "T[-1,:] = 800.\n",
    "\n",
    "k = 1.0\n",
    "\n",
    "dx, dy = 1., 1.\n",
    "\n",
    "steps = 100\n",
    "\n",
    "time = 0.0\n",
    "\n",
    "for i in range (1,steps):\n",
    "    gradTx, gradTy = np.gradient(T, dx, dy)\n",
    "    flux_x = k*gradTx\n",
    "    flux_y = k*gradTy\n",
    "\n",
    "    gradTxx, gradTxy = np.gradient(flux_x, dx, dy)\n",
    "    gradTyx, gradTyy = np.gradient(flux_y, dx, dy)\n",
    "\n",
    "    divT = gradTxx + gradTyy\n",
    "    dt = (dx*dy)/k\n",
    "\n",
    "    T = T + dt*divT\n",
    "    \n",
    "T2 = np.zeros((ny,nx))\n",
    "T2[0,:] = 300.\n",
    "T2[-1,:] = 800.\n",
    "\n",
    "for i in range (1,steps):\n",
    "    gradT2x, gradT2y = np.gradient(T2, dx, dy)\n",
    "    flux_x = k*gradT2x\n",
    "    flux_y = k*gradT2y\n",
    "\n",
    "    gradT2xx, gradT2xy = np.gradient(flux_x, dx, dy)\n",
    "    gradT2yx, gradT2yy = np.gradient(flux_y, dx, dy)\n",
    "\n",
    "    divT2 = gradT2xx + gradT2yy\n",
    "    dt = 1.1\n",
    "\n",
    "    T2 = T2 + dt*divT2\n",
    "\n",
    "T3 = np.zeros((ny,nx))\n",
    "T3[0,:] = 300.\n",
    "T3[-1,:] = 800.\n",
    "\n",
    "for i in range (1,steps):\n",
    "    gradT3x, gradT3y = np.gradient(T3, dx, dy)\n",
    "    flux_x = k*gradT3x\n",
    "    flux_y = k*gradT3y\n",
    "\n",
    "    gradT3xx, gradT3xy = np.gradient(flux_x, dx, dy)\n",
    "    gradT3yx, gradT3yy = np.gradient(flux_y, dx, dy)\n",
    "\n",
    "    divT3 = gradT3xx + gradT3yy\n",
    "    dt = 0.9\n",
    "\n",
    "    T3 = T3 + dt*divT3\n",
    "    \n",
    "fig, (ax1, ax2, ax3) = plt.subplots(1,3, sharey=True, figsize=(10,4))\n",
    "ax1.imshow(T)\n",
    "ax1.set_title('dt = 1 (100 steps)')\n",
    "ax2.imshow(T2)\n",
    "ax2.set_title('dt = 1.1 (100 steps)')\n",
    "ax3.imshow(T3)\n",
    "ax3.set_title('dt = 0.9 (100 steps)')"
   ]
  },
  {
   "cell_type": "code",
   "execution_count": null,
   "metadata": {},
   "outputs": [],
   "source": [
    "#Not a lot of difference between these three solutions - so dt seems to be pretty stable around 1? "
   ]
  }
 ],
 "metadata": {
  "kernelspec": {
   "display_name": "Python 3",
   "language": "python",
   "name": "python3"
  },
  "language_info": {
   "codemirror_mode": {
    "name": "ipython",
    "version": 3
   },
   "file_extension": ".py",
   "mimetype": "text/x-python",
   "name": "python",
   "nbconvert_exporter": "python",
   "pygments_lexer": "ipython3",
   "version": "3.8.5"
  }
 },
 "nbformat": 4,
 "nbformat_minor": 1
}
